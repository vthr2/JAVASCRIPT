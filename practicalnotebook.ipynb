{
 "cells": [
  {
   "cell_type": "code",
   "execution_count": 1,
   "metadata": {},
   "outputs": [],
   "source": [
    "import pandas as pd\n",
    "#Read in data\n",
    "myData = pd.read_csv(\"C:\\\\Users\\LethalValdi\\Documents\\St Andrews\\ID5059\\Project1\\Project1ID5059\\pp-complete.csv\",nrows = 100000, header =None)\n"
   ]
  },
  {
   "cell_type": "code",
   "execution_count": 2,
   "metadata": {},
   "outputs": [
    {
     "name": "stdout",
     "output_type": "stream",
     "text": [
      "<class 'pandas.core.frame.DataFrame'>\n",
      "RangeIndex: 100000 entries, 0 to 99999\n",
      "Data columns (total 16 columns):\n",
      "0     100000 non-null object\n",
      "1     100000 non-null int64\n",
      "2     100000 non-null object\n",
      "3     99926 non-null object\n",
      "4     100000 non-null object\n",
      "5     100000 non-null object\n",
      "6     100000 non-null object\n",
      "7     99995 non-null object\n",
      "8     8277 non-null object\n",
      "9     98529 non-null object\n",
      "10    94935 non-null object\n",
      "11    100000 non-null object\n",
      "12    100000 non-null object\n",
      "13    100000 non-null object\n",
      "14    100000 non-null object\n",
      "15    100000 non-null object\n",
      "dtypes: int64(1), object(15)\n",
      "memory usage: 12.2+ MB\n"
     ]
    }
   ],
   "source": [
    "#Check out the data \n",
    "myData.head()\n",
    "myData.info()"
   ]
  },
  {
   "cell_type": "code",
   "execution_count": 3,
   "metadata": {},
   "outputs": [
    {
     "name": "stdout",
     "output_type": "stream",
     "text": [
      "<class 'pandas.core.frame.DataFrame'>\n",
      "RangeIndex: 100000 entries, 0 to 99999\n",
      "Data columns (total 5 columns):\n",
      "Price       100000 non-null int64\n",
      "Date        100000 non-null object\n",
      "Type        100000 non-null object\n",
      "Duration    100000 non-null object\n",
      "Location    100000 non-null object\n",
      "dtypes: int64(1), object(4)\n",
      "memory usage: 3.8+ MB\n"
     ]
    }
   ],
   "source": [
    "#Select variables of interest\n",
    "modelData = myData[[1,2,4,6,11]]\n",
    "#Rename variables\n",
    "modelData = modelData.rename(columns={1: \"Price\", 2: \"Date\",4: \"Type\", 6: \"Duration\", 11:\"Location\"})\n",
    "modelData.info()\n"
   ]
  },
  {
   "cell_type": "code",
   "execution_count": 4,
   "metadata": {},
   "outputs": [
    {
     "name": "stdout",
     "output_type": "stream",
     "text": [
      "<class 'pandas.core.frame.DataFrame'>\n",
      "RangeIndex: 100000 entries, 0 to 99999\n",
      "Data columns (total 6 columns):\n",
      "Price       100000 non-null int64\n",
      "Date        100000 non-null datetime64[ns]\n",
      "Type        100000 non-null object\n",
      "Duration    100000 non-null object\n",
      "Location    100000 non-null object\n",
      "Month       100000 non-null int64\n",
      "dtypes: datetime64[ns](1), int64(2), object(3)\n",
      "memory usage: 4.6+ MB\n"
     ]
    },
    {
     "data": {
      "text/html": [
       "<div>\n",
       "<style scoped>\n",
       "    .dataframe tbody tr th:only-of-type {\n",
       "        vertical-align: middle;\n",
       "    }\n",
       "\n",
       "    .dataframe tbody tr th {\n",
       "        vertical-align: top;\n",
       "    }\n",
       "\n",
       "    .dataframe thead th {\n",
       "        text-align: right;\n",
       "    }\n",
       "</style>\n",
       "<table border=\"1\" class=\"dataframe\">\n",
       "  <thead>\n",
       "    <tr style=\"text-align: right;\">\n",
       "      <th></th>\n",
       "      <th>Price</th>\n",
       "      <th>Date</th>\n",
       "      <th>Type</th>\n",
       "      <th>Duration</th>\n",
       "      <th>Location</th>\n",
       "      <th>Month</th>\n",
       "    </tr>\n",
       "  </thead>\n",
       "  <tbody>\n",
       "    <tr>\n",
       "      <td>0</td>\n",
       "      <td>18500</td>\n",
       "      <td>1995-01-31</td>\n",
       "      <td>F</td>\n",
       "      <td>L</td>\n",
       "      <td>TORQUAY</td>\n",
       "      <td>1</td>\n",
       "    </tr>\n",
       "    <tr>\n",
       "      <td>1</td>\n",
       "      <td>73450</td>\n",
       "      <td>1995-10-09</td>\n",
       "      <td>D</td>\n",
       "      <td>F</td>\n",
       "      <td>LIVERPOOL</td>\n",
       "      <td>10</td>\n",
       "    </tr>\n",
       "    <tr>\n",
       "      <td>2</td>\n",
       "      <td>59000</td>\n",
       "      <td>1995-03-31</td>\n",
       "      <td>D</td>\n",
       "      <td>F</td>\n",
       "      <td>POOLE</td>\n",
       "      <td>3</td>\n",
       "    </tr>\n",
       "    <tr>\n",
       "      <td>3</td>\n",
       "      <td>31000</td>\n",
       "      <td>1995-12-04</td>\n",
       "      <td>D</td>\n",
       "      <td>F</td>\n",
       "      <td>WOODBRIDGE</td>\n",
       "      <td>12</td>\n",
       "    </tr>\n",
       "    <tr>\n",
       "      <td>4</td>\n",
       "      <td>95000</td>\n",
       "      <td>1995-09-22</td>\n",
       "      <td>D</td>\n",
       "      <td>F</td>\n",
       "      <td>LICHFIELD</td>\n",
       "      <td>9</td>\n",
       "    </tr>\n",
       "    <tr>\n",
       "      <td>...</td>\n",
       "      <td>...</td>\n",
       "      <td>...</td>\n",
       "      <td>...</td>\n",
       "      <td>...</td>\n",
       "      <td>...</td>\n",
       "      <td>...</td>\n",
       "    </tr>\n",
       "    <tr>\n",
       "      <td>195</td>\n",
       "      <td>42000</td>\n",
       "      <td>1995-12-21</td>\n",
       "      <td>S</td>\n",
       "      <td>F</td>\n",
       "      <td>NEWCASTLE UPON TYNE</td>\n",
       "      <td>12</td>\n",
       "    </tr>\n",
       "    <tr>\n",
       "      <td>196</td>\n",
       "      <td>95000</td>\n",
       "      <td>1995-03-03</td>\n",
       "      <td>S</td>\n",
       "      <td>F</td>\n",
       "      <td>GRAYS</td>\n",
       "      <td>3</td>\n",
       "    </tr>\n",
       "    <tr>\n",
       "      <td>197</td>\n",
       "      <td>74950</td>\n",
       "      <td>1995-10-03</td>\n",
       "      <td>D</td>\n",
       "      <td>F</td>\n",
       "      <td>MIDDLEWICH</td>\n",
       "      <td>10</td>\n",
       "    </tr>\n",
       "    <tr>\n",
       "      <td>198</td>\n",
       "      <td>43500</td>\n",
       "      <td>1995-11-14</td>\n",
       "      <td>S</td>\n",
       "      <td>F</td>\n",
       "      <td>BILLINGHAM</td>\n",
       "      <td>11</td>\n",
       "    </tr>\n",
       "    <tr>\n",
       "      <td>199</td>\n",
       "      <td>63000</td>\n",
       "      <td>1995-09-08</td>\n",
       "      <td>S</td>\n",
       "      <td>F</td>\n",
       "      <td>CLEATOR MOOR</td>\n",
       "      <td>9</td>\n",
       "    </tr>\n",
       "  </tbody>\n",
       "</table>\n",
       "<p>200 rows × 6 columns</p>\n",
       "</div>"
      ],
      "text/plain": [
       "     Price       Date Type Duration             Location  Month\n",
       "0    18500 1995-01-31    F        L              TORQUAY      1\n",
       "1    73450 1995-10-09    D        F            LIVERPOOL     10\n",
       "2    59000 1995-03-31    D        F                POOLE      3\n",
       "3    31000 1995-12-04    D        F           WOODBRIDGE     12\n",
       "4    95000 1995-09-22    D        F            LICHFIELD      9\n",
       "..     ...        ...  ...      ...                  ...    ...\n",
       "195  42000 1995-12-21    S        F  NEWCASTLE UPON TYNE     12\n",
       "196  95000 1995-03-03    S        F                GRAYS      3\n",
       "197  74950 1995-10-03    D        F           MIDDLEWICH     10\n",
       "198  43500 1995-11-14    S        F           BILLINGHAM     11\n",
       "199  63000 1995-09-08    S        F         CLEATOR MOOR      9\n",
       "\n",
       "[200 rows x 6 columns]"
      ]
     },
     "execution_count": 4,
     "metadata": {},
     "output_type": "execute_result"
    }
   ],
   "source": [
    "#Format date to better deal with it\n",
    "modelData['Date'] = pd.to_datetime(modelData['Date'], format = '%Y-%m-%d')\n",
    "\n",
    "#Get the months\n",
    "modelData['Month'] = modelData['Date'].dt.month\n",
    "\n",
    "#Check out data\n",
    "modelData.info()\n",
    "modelData.head(10)"
   ]
  },
  {
   "cell_type": "code",
   "execution_count": 5,
   "metadata": {},
   "outputs": [
    {
     "name": "stdout",
     "output_type": "stream",
     "text": [
      "        Price       Date Type Duration      Location  Month  isLondon\n",
      "0       18500 1995-01-31    F        L       TORQUAY      1         0\n",
      "1       73450 1995-10-09    D        F     LIVERPOOL     10         0\n",
      "2       59000 1995-03-31    D        F         POOLE      3         0\n",
      "3       31000 1995-12-04    D        F    WOODBRIDGE     12         0\n",
      "4       95000 1995-09-22    D        F     LICHFIELD      9         0\n",
      "...       ...        ...  ...      ...           ...    ...       ...\n",
      "99995   36500 1995-09-29    D        F  BOGNOR REGIS      9         0\n",
      "99996  310000 1995-03-15    D        F        WOKING      3         0\n",
      "99997   50000 1995-10-19    T        F      BASILDON     10         0\n",
      "99998   42000 1995-05-05    T        L          BURY      5         0\n",
      "99999   50500 1995-09-15    S        F    PONTYPRIDD      9         0\n",
      "\n",
      "[100000 rows x 7 columns]\n"
     ]
    }
   ],
   "source": [
    "#add dummy variable \"one-hot encode variable\" if location of house is in London\n",
    "from pandas import DataFrame\n",
    "modelData['isLondon'] = modelData['Location'].apply(lambda x: 1 if x == 'LONDON' else 0)\n",
    "\n",
    "print (modelData) "
   ]
  },
  {
   "cell_type": "code",
   "execution_count": 7,
   "metadata": {},
   "outputs": [
    {
     "data": {
      "image/png": "[encoded data removed]",
      "text/plain": [
       "<Figure size 1440x1080 with 4 Axes>"
      ]
     },
     "metadata": {
      "needs_background": "light"
     },
     "output_type": "display_data"
    }
   ],
   "source": [
    "#Check out histograms for the continuous variables\n",
    "import matplotlib.pyplot as plt\n",
    "%matplotlib inline\n",
    "modelData.hist(bins=50, figsize=(20,15))\n",
    "plt.show()"
   ]
  },
  {
   "cell_type": "code",
   "execution_count": 13,
   "metadata": {},
   "outputs": [
    {
     "data": {
      "text/plain": [
       "<matplotlib.axes._subplots.AxesSubplot at 0x20f57102ec8>"
      ]
     },
     "execution_count": 13,
     "metadata": {},
     "output_type": "execute_result"
    },
    {
     "data": {
      "image/png": "[encoded data removed]",
      "text/plain": [
       "<Figure size 432x288 with 1 Axes>"
      ]
     },
     "metadata": {
      "needs_background": "light"
     },
     "output_type": "display_data"
    }
   ],
   "source": [
    "#Get some bar charts of the categorical variables\n",
    "modelData['Type'].value_counts().plot(kind='bar')"
   ]
  },
  {
   "cell_type": "code",
   "execution_count": 14,
   "metadata": {},
   "outputs": [
    {
     "data": {
      "text/plain": [
       "<matplotlib.axes._subplots.AxesSubplot at 0x20f516f74c8>"
      ]
     },
     "execution_count": 14,
     "metadata": {},
     "output_type": "execute_result"
    },
    {
     "data": {
      "image/png": "[encoded data removed]",
      "text/plain": [
       "<Figure size 432x288 with 1 Axes>"
      ]
     },
     "metadata": {
      "needs_background": "light"
     },
     "output_type": "display_data"
    }
   ],
   "source": [
    "modelData['Duration'].value_counts().plot(kind='bar')"
   ]
  },
  {
   "cell_type": "code",
   "execution_count": 15,
   "metadata": {},
   "outputs": [],
   "source": [
    "#Get dummy variables for each type of house and add to dataset\n",
    "typeDummy = pd.get_dummies(modelData['Type'])\n",
    "modelData = modelData.drop('Type',axis = 1)\n",
    "modelData = modelData.join(typeDummy)\n",
    "\n",
    "#Rename dummy variables for type of house because type of house and duration are both encoded with F \n",
    "modelData = modelData.rename(columns={'D': \"TypeD\",'F': \"TypeF\",'O': \"TypeO\", 'S': \"TypeS\", 'T': \"TypeT\"})\n"
   ]
  },
  {
   "cell_type": "code",
   "execution_count": 17,
   "metadata": {},
   "outputs": [],
   "source": [
    "#Get dummy variables for each Duration category of the dataset\n",
    "durationDummy = pd.get_dummies(modelData['Duration'])\n",
    "modelData = modelData.drop('Duration',axis = 1)\n",
    "modelData = modelData.join(durationDummy)\n",
    "\n",
    "#Rename them\n",
    "modelData = modelData.rename(columns = {'F': 'DurationF', 'L': 'DurationL', 'U': 'DurationU'})\n"
   ]
  },
  {
   "cell_type": "code",
   "execution_count": 18,
   "metadata": {},
   "outputs": [],
   "source": [
    "#Make seperate dataset for further cleaning of data\n",
    "cleanedData = modelData.copy()"
   ]
  },
  {
   "cell_type": "code",
   "execution_count": null,
   "metadata": {},
   "outputs": [],
   "source": [
    "\n"
   ]
  },
  {
   "cell_type": "code",
   "execution_count": 20,
   "metadata": {},
   "outputs": [],
   "source": [
    "#Delete unneccesary variables\n",
    "del cleanedData['Date']\n",
    "del cleanedData['Location']"
   ]
  },
  {
   "cell_type": "code",
   "execution_count": 21,
   "metadata": {},
   "outputs": [
    {
     "name": "stdout",
     "output_type": "stream",
     "text": [
      "<class 'pandas.core.frame.DataFrame'>\n",
      "Int64Index: 90923 entries, 0 to 99999\n",
      "Data columns (total 11 columns):\n",
      "Price        90923 non-null int64\n",
      "Month        90923 non-null int64\n",
      "isLondon     90923 non-null int64\n",
      "TypeD        90923 non-null uint8\n",
      "TypeF        90923 non-null uint8\n",
      "TypeO        90923 non-null uint8\n",
      "TypeS        90923 non-null uint8\n",
      "TypeT        90923 non-null uint8\n",
      "DurationF    90923 non-null uint8\n",
      "DurationL    90923 non-null uint8\n",
      "DurationU    90923 non-null uint8\n",
      "dtypes: int64(3), uint8(8)\n",
      "memory usage: 3.5 MB\n",
      "<class 'pandas.core.frame.DataFrame'>\n",
      "Int64Index: 9077 entries, 3 to 99974\n",
      "Data columns (total 11 columns):\n",
      "Price        9077 non-null int64\n",
      "Month        9077 non-null int64\n",
      "isLondon     9077 non-null int64\n",
      "TypeD        9077 non-null uint8\n",
      "TypeF        9077 non-null uint8\n",
      "TypeO        9077 non-null uint8\n",
      "TypeS        9077 non-null uint8\n",
      "TypeT        9077 non-null uint8\n",
      "DurationF    9077 non-null uint8\n",
      "DurationL    9077 non-null uint8\n",
      "DurationU    9077 non-null uint8\n",
      "dtypes: int64(3), uint8(8)\n",
      "memory usage: 354.6 KB\n"
     ]
    }
   ],
   "source": [
    "#Split to test and training set, test data is data in december, rest is training data\n",
    "trainData = cleanedData[cleanedData.Month != 12]\n",
    "trainData.info()\n",
    "testData = cleanedData[cleanedData.Month == 12]\n",
    "testData.info()"
   ]
  },
  {
   "cell_type": "code",
   "execution_count": 22,
   "metadata": {},
   "outputs": [],
   "source": [
    "#Remove months from the training and test data since that was used to split the data\n",
    "del trainData['Month']\n",
    "del testData['Month']"
   ]
  },
  {
   "cell_type": "code",
   "execution_count": 23,
   "metadata": {},
   "outputs": [],
   "source": [
    "#Make a variable which only includes the variable we want to predict which is the price of the property\n",
    "trainPrice = trainData['Price']"
   ]
  },
  {
   "cell_type": "code",
   "execution_count": 28,
   "metadata": {},
   "outputs": [
    {
     "name": "stderr",
     "output_type": "stream",
     "text": [
      "C:\\Users\\LethalValdi\\Anaconda3\\lib\\site-packages\\sklearn\\ensemble\\forest.py:245: FutureWarning: The default value of n_estimators will change from 10 in version 0.20 to 100 in 0.22.\n",
      "  \"10 in version 0.20 to 100 in 0.22.\", FutureWarning)\n"
     ]
    },
    {
     "data": {
      "text/plain": [
       "RandomForestRegressor(bootstrap=True, criterion='mse', max_depth=None,\n",
       "                      max_features='auto', max_leaf_nodes=None,\n",
       "                      min_impurity_decrease=0.0, min_impurity_split=None,\n",
       "                      min_samples_leaf=1, min_samples_split=2,\n",
       "                      min_weight_fraction_leaf=0.0, n_estimators=10,\n",
       "                      n_jobs=None, oob_score=False, random_state=None,\n",
       "                      verbose=0, warm_start=False)"
      ]
     },
     "execution_count": 28,
     "metadata": {},
     "output_type": "execute_result"
    }
   ],
   "source": [
    "#Fit random forest model\n",
    "from sklearn.ensemble import RandomForestRegressor\n",
    "ranForReg = RandomForestRegressor()\n",
    "ranForReg.fit(trainData, trainData['Price'])"
   ]
  },
  {
   "cell_type": "code",
   "execution_count": 30,
   "metadata": {},
   "outputs": [],
   "source": [
    "#Notice we get 10 as number of estimators lets see how well the algorithm predicts by using 10-fold cross-validation\n",
    "import numpy as np\n",
    "from sklearn.model_selection import cross_val_score\n",
    "myScores = cross_val_score(ranForReg, trainData, trainPrice,  scoring=\"neg_mean_squared_error\", cv=10)\n",
    "ranForRmse = np.sqrt(-myScores)"
   ]
  },
  {
   "cell_type": "code",
   "execution_count": 32,
   "metadata": {},
   "outputs": [
    {
     "name": "stdout",
     "output_type": "stream",
     "text": [
      "Scores: [  520.81976329   250.86958518   117.04140826  1090.49780915\n",
      "   857.25547912   224.44401556   373.59142069   732.42176982\n",
      " 40136.18425519   772.84192396]\n",
      "Mean: 4507.596743021031\n",
      "Standard deviation: 11879.918494828398\n"
     ]
    }
   ],
   "source": [
    "#Display the errors of the model that is the mean of the root squared mean errors and the standard deviation\n",
    "def displayScores(myScores):\n",
    "   print(\"Scores:\", myScores)\n",
    "   print(\"Mean:\", myScores.mean())\n",
    "   print(\"Standard deviation:\", myScores.std())\n",
    "displayScores(ranForRmse)"
   ]
  },
  {
   "cell_type": "code",
   "execution_count": 33,
   "metadata": {},
   "outputs": [
    {
     "data": {
      "text/plain": [
       "0.06736980695642733"
      ]
     },
     "execution_count": 33,
     "metadata": {},
     "output_type": "execute_result"
    }
   ],
   "source": [
    "#Check how well it does compared to the mean of the price\n",
    "ranForRmse.mean() / trainPrice.mean()\n"
   ]
  },
  {
   "cell_type": "code",
   "execution_count": 34,
   "metadata": {},
   "outputs": [
    {
     "data": {
      "text/plain": [
       "GridSearchCV(cv=5, error_score='raise-deprecating',\n",
       "             estimator=RandomForestRegressor(bootstrap=True, criterion='mse',\n",
       "                                             max_depth=None,\n",
       "                                             max_features='auto',\n",
       "                                             max_leaf_nodes=None,\n",
       "                                             min_impurity_decrease=0.0,\n",
       "                                             min_impurity_split=None,\n",
       "                                             min_samples_leaf=1,\n",
       "                                             min_samples_split=2,\n",
       "                                             min_weight_fraction_leaf=0.0,\n",
       "                                             n_estimators='warn', n_jobs=None,\n",
       "                                             oob_score=False, random_state=None,\n",
       "                                             verbose=0, warm_start=False),\n",
       "             iid='warn', n_jobs=None,\n",
       "             param_grid=[{'max_features': [2, 4, 6, 8],\n",
       "                          'n_estimators': [5, 10, 15, 20, 25, 30]},\n",
       "                         {'bootstrap': [False], 'max_features': [2, 3, 4],\n",
       "                          'n_estimators': [5, 15, 30]}],\n",
       "             pre_dispatch='2*n_jobs', refit=True, return_train_score=True,\n",
       "             scoring='neg_mean_squared_error', verbose=0)"
      ]
     },
     "execution_count": 34,
     "metadata": {},
     "output_type": "execute_result"
    }
   ],
   "source": [
    "#Finetune the model, use cross validation to check which values for the hyperparamters give the lowest errors\n",
    "from sklearn.model_selection import GridSearchCV\n",
    "param_grid = [\n",
    " {'n_estimators': [5,10,15,20,25,30], 'max_features': [2, 4, 6, 8]},\n",
    " {'bootstrap': [False], 'n_estimators': [5, 15,30], 'max_features': [2, 3,4]},\n",
    " ]\n",
    "forest_reg = RandomForestRegressor()\n",
    "grid_search = GridSearchCV(forest_reg, param_grid, cv=5,\n",
    " scoring='neg_mean_squared_error',\n",
    "return_train_score=True)\n",
    "grid_search.fit(trainData, trainPrice)\n"
   ]
  },
  {
   "cell_type": "code",
   "execution_count": 47,
   "metadata": {},
   "outputs": [
    {
     "data": {
      "text/plain": [
       "{'max_features': 8, 'n_estimators': 15}"
      ]
     },
     "execution_count": 47,
     "metadata": {},
     "output_type": "execute_result"
    }
   ],
   "source": [
    "#Check out results\n",
    "grid_search.best_params_"
   ]
  },
  {
   "cell_type": "code",
   "execution_count": 37,
   "metadata": {},
   "outputs": [],
   "source": [
    "#Get our final model with the finetuned hyperparameteres\n",
    "finalModel = grid_search.best_estimator_"
   ]
  },
  {
   "cell_type": "code",
   "execution_count": 41,
   "metadata": {},
   "outputs": [],
   "source": [
    "#Check how well our final model predicts tor the test set\n",
    "testPrice = testData['Price']"
   ]
  },
  {
   "cell_type": "code",
   "execution_count": 43,
   "metadata": {},
   "outputs": [
    {
     "data": {
      "text/plain": [
       "9184.608377576425"
      ]
     },
     "execution_count": 43,
     "metadata": {},
     "output_type": "execute_result"
    }
   ],
   "source": [
    "\n",
    "from sklearn.metrics import mean_squared_error\n",
    "#Get root squared mean errors for the test set, that is see how well the model predicts on the testing set and compare to the mean of the price\n",
    "finalPreds = finalModel.predict(testData)\n",
    "final_mse = mean_squared_error(testPrice, finalPreds)\n",
    "final_rmse = np.sqrt(final_mse) \n",
    "final_rmse\n",
    "#"
   ]
  },
  {
   "cell_type": "code",
   "execution_count": 44,
   "metadata": {},
   "outputs": [
    {
     "data": {
      "text/plain": [
       "0.13675039233931788"
      ]
     },
     "execution_count": 44,
     "metadata": {},
     "output_type": "execute_result"
    }
   ],
   "source": [
    "final_rmse/testPrice.mean()"
   ]
  },
  {
   "cell_type": "code",
   "execution_count": 46,
   "metadata": {},
   "outputs": [
    {
     "data": {
      "text/plain": [
       "0.004942505036873896"
      ]
     },
     "execution_count": 46,
     "metadata": {},
     "output_type": "execute_result"
    }
   ],
   "source": [
    "#Get root mean squared forecasting error\n",
    "SE = (finalPreds - testPrice) ** 2 \n",
    "SFE = SE.divide(testPrice**2) \n",
    "MSFE = SFE.mean() \n",
    "RMSFE = np.sqrt(MSFE)\n",
    "RMSFE"
   ]
  },
  {
   "cell_type": "code",
   "execution_count": null,
   "metadata": {},
   "outputs": [],
   "source": []
  }
 ],
 "metadata": {
  "kernelspec": {
   "display_name": "Python 3",
   "language": "python",
   "name": "python3"
  },
  "language_info": {
   "codemirror_mode": {
    "name": "ipython",
    "version": 3
   },
   "file_extension": ".py",
   "mimetype": "text/x-python",
   "name": "python",
   "nbconvert_exporter": "python",
   "pygments_lexer": "ipython3",
   "version": "3.7.4"
  }
 },
 "nbformat": 4,
 "nbformat_minor": 2
}
